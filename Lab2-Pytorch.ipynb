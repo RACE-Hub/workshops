{
 "cells": [
  {
   "cell_type": "markdown",
   "id": "08434be4",
   "metadata": {},
   "source": [
    "# Welcome to Lab 2\n",
    "\n",
    "This lab we go hrough some basics of tensors for PyTorch algorithms and then train a deep learning algorithm. "
   ]
  },
  {
   "cell_type": "markdown",
   "id": "c6195801",
   "metadata": {},
   "source": [
    "Tensors are a specialized data structure that are very similar to arrays and matrices. In PyTorch, we use tensors to encode the inputs and outputs of a model, as well as the model’s parameters.\n",
    "\n",
    "Tensors are similar to NumPy’s ndarrays, except that tensors can run on GPUs or other specialized hardware to accelerate computing. If you’re familiar with ndarrays, you’ll be right at home with the Tensor API. If not, follow along in this quick API walkthrough."
   ]
  },
  {
   "cell_type": "code",
   "execution_count": 1,
   "id": "7b0e946d",
   "metadata": {},
   "outputs": [],
   "source": [
    "import torch\n",
    "import numpy as np"
   ]
  },
  {
   "cell_type": "markdown",
   "id": "4139ae33",
   "metadata": {},
   "source": [
    "Tensors can be initialized in various ways. Take a look at the following examples:\n",
    "#### Directly from data\n",
    "\n",
    "Tensors can be created directly from data. The data type is automatically inferred.\n",
    "\n"
   ]
  },
  {
   "cell_type": "code",
   "execution_count": 2,
   "id": "04f6604b",
   "metadata": {},
   "outputs": [],
   "source": [
    "data = [[1, 2], [3, 4]]\n",
    "x_data = torch.tensor(data)\n"
   ]
  },
  {
   "cell_type": "markdown",
   "id": "39763990",
   "metadata": {},
   "source": [
    "#### From a NumPy array\n",
    "\n",
    "Tensors can be created from NumPy arrays (and vice versa - see Bridge with NumPy)."
   ]
  },
  {
   "cell_type": "code",
   "execution_count": 3,
   "id": "cffa4810",
   "metadata": {},
   "outputs": [],
   "source": [
    "np_array = np.array(data)\n",
    "x_np = torch.from_numpy(np_array)"
   ]
  },
  {
   "cell_type": "markdown",
   "id": "ecc004ad",
   "metadata": {},
   "source": [
    "#### From another tensor:\n",
    "\n",
    "The new tensor retains the properties (shape, datatype) of the argument tensor, unless explicitly overridden."
   ]
  },
  {
   "cell_type": "code",
   "execution_count": 4,
   "id": "4ca84bc7",
   "metadata": {},
   "outputs": [
    {
     "name": "stdout",
     "output_type": "stream",
     "text": [
      "Ones Tensor: \n",
      " tensor([[1, 1],\n",
      "        [1, 1]]) \n",
      "\n",
      "Random Tensor: \n",
      " tensor([[0.9878, 0.0770],\n",
      "        [0.0175, 0.2181]]) \n",
      "\n"
     ]
    }
   ],
   "source": [
    "x_ones = torch.ones_like(x_data) # retains the properties of x_data\n",
    "print(f\"Ones Tensor: \\n {x_ones} \\n\")\n",
    "\n",
    "x_rand = torch.rand_like(x_data, dtype=torch.float) # overrides the datatype of x_data\n",
    "print(f\"Random Tensor: \\n {x_rand} \\n\")"
   ]
  },
  {
   "cell_type": "markdown",
   "id": "552f8602",
   "metadata": {},
   "source": [
    "#### With random or constant values:\n",
    "\n",
    "shape is a tuple of tensor dimensions. In the functions below, it determines the dimensionality of the output tensor."
   ]
  },
  {
   "cell_type": "code",
   "execution_count": 7,
   "id": "53bb4b2a",
   "metadata": {},
   "outputs": [
    {
     "name": "stdout",
     "output_type": "stream",
     "text": [
      "Random Tensor: \n",
      " tensor([[0.1511, 0.7777, 0.0812],\n",
      "        [0.9859, 0.8363, 0.0331]]) \n",
      "\n",
      "Ones Tensor: \n",
      " tensor([[1., 1., 1.],\n",
      "        [1., 1., 1.]]) \n",
      "\n",
      "Zeros Tensor: \n",
      " tensor([[0., 0., 0.],\n",
      "        [0., 0., 0.]])\n"
     ]
    }
   ],
   "source": [
    "shape = (2, 3,)\n",
    "rand_tensor = torch.rand(shape)\n",
    "ones_tensor = torch.ones(shape)\n",
    "zeros_tensor = torch.zeros(shape)\n",
    "\n",
    "print(f\"Random Tensor: \\n {rand_tensor} \\n\")\n",
    "print(f\"Ones Tensor: \\n {ones_tensor} \\n\")\n",
    "print(f\"Zeros Tensor: \\n {zeros_tensor}\")"
   ]
  },
  {
   "cell_type": "markdown",
   "id": "8bb22593",
   "metadata": {},
   "source": [
    "#### Tensor Attributes\n",
    "\n",
    "Tensor attributes describe their shape, datatype, and the device on which they are stored."
   ]
  },
  {
   "cell_type": "code",
   "execution_count": 8,
   "id": "d0254bcb",
   "metadata": {},
   "outputs": [
    {
     "name": "stdout",
     "output_type": "stream",
     "text": [
      "Shape of tensor: torch.Size([3, 4])\n",
      "Datatype of tensor: torch.float32\n",
      "Device tensor is stored on: cpu\n"
     ]
    }
   ],
   "source": [
    "tensor = torch.rand(3, 4)\n",
    "\n",
    "print(f\"Shape of tensor: {tensor.shape}\")\n",
    "print(f\"Datatype of tensor: {tensor.dtype}\")\n",
    "print(f\"Device tensor is stored on: {tensor.device}\")"
   ]
  },
  {
   "cell_type": "markdown",
   "id": "2661dd80",
   "metadata": {},
   "source": [
    "#### Tensor Operations\n",
    "\n",
    "Over 100 tensor operations, including transposing, indexing, slicing, mathematical operations, linear algebra, random sampling, and more are comprehensively described here.\n",
    "\n",
    "Each of them can be run on the GPU (at typically higher speeds than on a CPU). \n",
    "\n",
    "Standard numpy-like indexing and slicing:\n"
   ]
  },
  {
   "cell_type": "code",
   "execution_count": 9,
   "id": "3616bf02",
   "metadata": {},
   "outputs": [
    {
     "name": "stdout",
     "output_type": "stream",
     "text": [
      "tensor([[1., 0., 1., 1.],\n",
      "        [1., 0., 1., 1.],\n",
      "        [1., 0., 1., 1.],\n",
      "        [1., 0., 1., 1.]])\n"
     ]
    }
   ],
   "source": [
    "\n",
    "tensor = torch.ones(4, 4)\n",
    "tensor[:,1] = 0\n",
    "print(tensor)\n"
   ]
  },
  {
   "cell_type": "markdown",
   "id": "17ac658a",
   "metadata": {},
   "source": [
    "#### Joining tensors \n",
    "You can use torch.cat to concatenate a sequence of tensors along a given dimension. See also torch.stack, another tensor joining op that is subtly different from torch.cat."
   ]
  },
  {
   "cell_type": "code",
   "execution_count": 10,
   "id": "83b57b49",
   "metadata": {},
   "outputs": [
    {
     "name": "stdout",
     "output_type": "stream",
     "text": [
      "tensor([[1., 0., 1., 1., 1., 0., 1., 1., 1., 0., 1., 1.],\n",
      "        [1., 0., 1., 1., 1., 0., 1., 1., 1., 0., 1., 1.],\n",
      "        [1., 0., 1., 1., 1., 0., 1., 1., 1., 0., 1., 1.],\n",
      "        [1., 0., 1., 1., 1., 0., 1., 1., 1., 0., 1., 1.]])\n"
     ]
    }
   ],
   "source": [
    "t1 = torch.cat([tensor, tensor, tensor], dim=1)\n",
    "print(t1)"
   ]
  },
  {
   "cell_type": "markdown",
   "id": "8f2e84e1",
   "metadata": {},
   "source": [
    "#### Multiplying tensors"
   ]
  },
  {
   "cell_type": "code",
   "execution_count": 11,
   "id": "327f506d",
   "metadata": {},
   "outputs": [
    {
     "name": "stdout",
     "output_type": "stream",
     "text": [
      "tensor.mul(tensor) \n",
      " tensor([[1., 0., 1., 1.],\n",
      "        [1., 0., 1., 1.],\n",
      "        [1., 0., 1., 1.],\n",
      "        [1., 0., 1., 1.]]) \n",
      "\n",
      "tensor * tensor \n",
      " tensor([[1., 0., 1., 1.],\n",
      "        [1., 0., 1., 1.],\n",
      "        [1., 0., 1., 1.],\n",
      "        [1., 0., 1., 1.]])\n"
     ]
    }
   ],
   "source": [
    "# This computes the element-wise product\n",
    "print(f\"tensor.mul(tensor) \\n {tensor.mul(tensor)} \\n\")\n",
    "# Alternative syntax:\n",
    "print(f\"tensor * tensor \\n {tensor * tensor}\")"
   ]
  },
  {
   "cell_type": "markdown",
   "id": "17daa961",
   "metadata": {},
   "source": [
    "#### In-place operations\n",
    "Operations that have a _ suffix are in-place. For example: x.copy_(y), x.t_(), will change x."
   ]
  },
  {
   "cell_type": "code",
   "execution_count": 12,
   "id": "515190c9",
   "metadata": {},
   "outputs": [
    {
     "name": "stdout",
     "output_type": "stream",
     "text": [
      "tensor([[1., 0., 1., 1.],\n",
      "        [1., 0., 1., 1.],\n",
      "        [1., 0., 1., 1.],\n",
      "        [1., 0., 1., 1.]]) \n",
      "\n",
      "tensor([[6., 5., 6., 6.],\n",
      "        [6., 5., 6., 6.],\n",
      "        [6., 5., 6., 6.],\n",
      "        [6., 5., 6., 6.]])\n"
     ]
    }
   ],
   "source": [
    "print(tensor, \"\\n\")\n",
    "tensor.add_(5)\n",
    "print(tensor)"
   ]
  },
  {
   "cell_type": "markdown",
   "id": "f09a8116",
   "metadata": {},
   "source": [
    "#### Bridge with NumPy\n",
    "\n",
    "Tensors on the CPU and NumPy arrays can share their underlying memory locations, and changing one will change the other."
   ]
  },
  {
   "cell_type": "code",
   "execution_count": 13,
   "id": "638d5479",
   "metadata": {},
   "outputs": [
    {
     "name": "stdout",
     "output_type": "stream",
     "text": [
      "t: tensor([1., 1., 1., 1., 1.])\n",
      "n: [1. 1. 1. 1. 1.]\n"
     ]
    }
   ],
   "source": [
    "t = torch.ones(5)\n",
    "print(f\"t: {t}\")\n",
    "n = t.numpy()\n",
    "print(f\"n: {n}\")"
   ]
  },
  {
   "cell_type": "code",
   "execution_count": 14,
   "id": "9f5026e9",
   "metadata": {},
   "outputs": [
    {
     "name": "stdout",
     "output_type": "stream",
     "text": [
      "t: tensor([2., 2., 2., 2., 2.])\n",
      "n: [2. 2. 2. 2. 2.]\n"
     ]
    }
   ],
   "source": [
    "t.add_(1)\n",
    "print(f\"t: {t}\")\n",
    "print(f\"n: {n}\")"
   ]
  },
  {
   "cell_type": "markdown",
   "id": "370dd7b6",
   "metadata": {},
   "source": [
    "#### NumPy array to Tensor\n"
   ]
  },
  {
   "cell_type": "code",
   "execution_count": 15,
   "id": "17a4f295",
   "metadata": {},
   "outputs": [],
   "source": [
    "\n",
    "n = np.ones(5)\n",
    "t = torch.from_numpy(n)\n"
   ]
  },
  {
   "cell_type": "code",
   "execution_count": 16,
   "id": "57174f45",
   "metadata": {},
   "outputs": [
    {
     "name": "stdout",
     "output_type": "stream",
     "text": [
      "t: tensor([2., 2., 2., 2., 2.], dtype=torch.float64)\n",
      "n: [2. 2. 2. 2. 2.]\n"
     ]
    }
   ],
   "source": [
    "np.add(n, 1, out=n)\n",
    "print(f\"t: {t}\")\n",
    "print(f\"n: {n}\")"
   ]
  },
  {
   "cell_type": "markdown",
   "id": "74c9635f",
   "metadata": {},
   "source": [
    "### Deep Learning\n",
    "\n",
    "Hopefully that gave you a bit of an idea of what is possible with tensors. Now let's train a model using tensors. "
   ]
  },
  {
   "cell_type": "markdown",
   "id": "71eaec54",
   "metadata": {},
   "source": [
    "Now time for some machine learning!"
   ]
  },
  {
   "cell_type": "code",
   "execution_count": 19,
   "id": "24c223a9",
   "metadata": {},
   "outputs": [
    {
     "name": "stdout",
     "output_type": "stream",
     "text": [
      "Looking in indexes: https://pypi.org/simple, https://pip.repos.neuron.amazonaws.com\n",
      "Collecting torchsummary\n",
      "  Downloading torchsummary-1.5.1-py3-none-any.whl (2.8 kB)\n",
      "Installing collected packages: torchsummary\n",
      "Successfully installed torchsummary-1.5.1\n"
     ]
    }
   ],
   "source": [
    "!pip install torchsummary"
   ]
  },
  {
   "cell_type": "code",
   "execution_count": 20,
   "id": "8296b31e",
   "metadata": {},
   "outputs": [],
   "source": [
    "import torch\n",
    "import torchvision\n",
    "import torch.nn as nn\n",
    "import torch.optim as optim\n",
    "from torchsummary import summary\n",
    "import torch.nn.functional as F\n"
   ]
  },
  {
   "cell_type": "markdown",
   "id": "9327d7ac",
   "metadata": {},
   "source": [
    "First, we need to import the necessary libraries and load the dataset. We will be using the built-in MNIST dataset in PyTorch, which can be easily loaded using the torchvision library. This data set is of handwriten digis and we will be classifying digit is in the image \n",
    "\n",
    "In the below code the torchvision.datasets.MNIST function is used to load the dataset, it takes several arguments such as:\n",
    "\n",
    "    root: The directory where the dataset will be saved. For this workshop we will be saving it to our Service Workbench 'Study' folder. \n",
    "    train: A Boolean flag indicating whether to load the training set or the test set.\n",
    "    transform: A transformation to be applied to the data\n",
    "    download: A Boolean flag indicating whether to download the dataset if it is not found in the root directory."
   ]
  },
  {
   "cell_type": "code",
   "execution_count": null,
   "id": "c095b89d",
   "metadata": {},
   "outputs": [],
   "source": []
  },
  {
   "cell_type": "code",
   "execution_count": 21,
   "id": "4e3d62f9",
   "metadata": {},
   "outputs": [
    {
     "name": "stdout",
     "output_type": "stream",
     "text": [
      "Downloading http://yann.lecun.com/exdb/mnist/train-images-idx3-ubyte.gz to ./studies/Sagemaker_Study/Lab1/MNIST/raw/train-images-idx3-ubyte.gz\n"
     ]
    },
    {
     "data": {
      "application/vnd.jupyter.widget-view+json": {
       "model_id": "4ba5743cc8b4442d9428e12043502560",
       "version_major": 2,
       "version_minor": 0
      },
      "text/plain": [
       "0it [00:00, ?it/s]"
      ]
     },
     "metadata": {},
     "output_type": "display_data"
    },
    {
     "name": "stdout",
     "output_type": "stream",
     "text": [
      "Extracting ./studies/Sagemaker_Study/Lab1/MNIST/raw/train-images-idx3-ubyte.gz to ./studies/Sagemaker_Study/Lab1/MNIST/raw\n",
      "Downloading http://yann.lecun.com/exdb/mnist/train-labels-idx1-ubyte.gz to ./studies/Sagemaker_Study/Lab1/MNIST/raw/train-labels-idx1-ubyte.gz\n"
     ]
    },
    {
     "data": {
      "application/vnd.jupyter.widget-view+json": {
       "model_id": "3251c56b8cc44af2bc422bec5648fed4",
       "version_major": 2,
       "version_minor": 0
      },
      "text/plain": [
       "0it [00:00, ?it/s]"
      ]
     },
     "metadata": {},
     "output_type": "display_data"
    },
    {
     "name": "stdout",
     "output_type": "stream",
     "text": [
      "Extracting ./studies/Sagemaker_Study/Lab1/MNIST/raw/train-labels-idx1-ubyte.gz to ./studies/Sagemaker_Study/Lab1/MNIST/raw\n",
      "Downloading http://yann.lecun.com/exdb/mnist/t10k-images-idx3-ubyte.gz to ./studies/Sagemaker_Study/Lab1/MNIST/raw/t10k-images-idx3-ubyte.gz\n"
     ]
    },
    {
     "data": {
      "application/vnd.jupyter.widget-view+json": {
       "model_id": "8f1d43b422c04c0282d014db3c032d8f",
       "version_major": 2,
       "version_minor": 0
      },
      "text/plain": [
       "0it [00:00, ?it/s]"
      ]
     },
     "metadata": {},
     "output_type": "display_data"
    },
    {
     "name": "stdout",
     "output_type": "stream",
     "text": [
      "Extracting ./studies/Sagemaker_Study/Lab1/MNIST/raw/t10k-images-idx3-ubyte.gz to ./studies/Sagemaker_Study/Lab1/MNIST/raw\n",
      "Downloading http://yann.lecun.com/exdb/mnist/t10k-labels-idx1-ubyte.gz to ./studies/Sagemaker_Study/Lab1/MNIST/raw/t10k-labels-idx1-ubyte.gz\n"
     ]
    },
    {
     "data": {
      "application/vnd.jupyter.widget-view+json": {
       "model_id": "63defa35884643e8a6ca27f3816e1cff",
       "version_major": 2,
       "version_minor": 0
      },
      "text/plain": [
       "0it [00:00, ?it/s]"
      ]
     },
     "metadata": {},
     "output_type": "display_data"
    },
    {
     "name": "stdout",
     "output_type": "stream",
     "text": [
      "Extracting ./studies/Sagemaker_Study/Lab1/MNIST/raw/t10k-labels-idx1-ubyte.gz to ./studies/Sagemaker_Study/Lab1/MNIST/raw\n",
      "Processing...\n"
     ]
    },
    {
     "name": "stderr",
     "output_type": "stream",
     "text": [
      "/pytorch/torch/csrc/utils/tensor_numpy.cpp:141: UserWarning: The given NumPy array is not writeable, and PyTorch does not support non-writeable tensors. This means you can write to the underlying (supposedly non-writeable) NumPy array using the tensor. You may want to copy the array to protect its data or make it writeable before converting it to a tensor. This type of warning will be suppressed for the rest of this program.\n"
     ]
    },
    {
     "name": "stdout",
     "output_type": "stream",
     "text": [
      "Done!\n"
     ]
    }
   ],
   "source": [
    "# Load the MNIST dataset\n",
    "train_dataset = torchvision.datasets.MNIST(root='./studies/Sagemaker_Study/Lab2',\n",
    "                                           train=True,\n",
    "                                           transform=torchvision.transforms.ToTensor(),\n",
    "                                           download=True)\n",
    "test_dataset = torchvision.datasets.MNIST(root='./studies/Sagemaker_Study/Lab2',\n",
    "                                          train=False,\n",
    "                                          transform=torchvision.transforms.ToTensor(),\n",
    "                                          download=True)\n"
   ]
  },
  {
   "cell_type": "code",
   "execution_count": null,
   "id": "562f6f3c",
   "metadata": {},
   "outputs": [],
   "source": []
  },
  {
   "cell_type": "markdown",
   "id": "c3d07f50",
   "metadata": {},
   "source": [
    "## Step 3: Build the model\n",
    "Next, we need to define our model. In this example, we will be using a simple feedforward neural network \n"
   ]
  },
  {
   "cell_type": "code",
   "execution_count": 22,
   "id": "5fbcc170",
   "metadata": {},
   "outputs": [],
   "source": [
    "class Classifier(nn.Module):\n",
    "    def __init__(self):\n",
    "        super().__init__()\n",
    "        self.conv1 = nn.Conv2d(1, 32, kernel_size=3, padding=1)\n",
    "        self.conv2 = nn.Conv2d(32, 64, kernel_size=3, padding=1)\n",
    "        self.pool = nn.MaxPool2d(2, 2)\n",
    "        self.dropout1 = nn.Dropout2d(0.25)\n",
    "        self.dropout2 = nn.Dropout2d(0.5)\n",
    "        self.fc1 = nn.Linear(64 * 7 * 7, 128)\n",
    "        self.fc2 = nn.Linear(128, 10)\n",
    "  \n",
    "    def forward(self, x):\n",
    "        x = self.pool(F.relu(self.conv1(x)))\n",
    "        x = self.dropout1(x)\n",
    "        x = self.pool(F.relu(self.conv2(x)))\n",
    "        x = self.dropout2(x)\n",
    "        x = x.view(-1, 64 * 7 * 7)\n",
    "        x = F.relu(self.fc1(x))\n",
    "        x = self.fc2(x)\n",
    "        return x"
   ]
  },
  {
   "cell_type": "markdown",
   "id": "6fe49e78",
   "metadata": {},
   "source": [
    "The Classifier class inherits from PyTorch’s nn.Module class and defines the architecture of the CNN. The __init__ method is called when an instance of the class is created and it sets up the layers of the network.\n",
    "\n",
    "    self.conv1 = nn.Conv2d(1, 32, kernel_size=3, padding=1): This line creates a 2D convolutional layer with 1 input channel, 32 output channels, a kernel size of 3, and padding of 1. The convolutional layer applies a set of filters (also called kernels) to the input image in order to extract features from it.\n",
    "    self.conv2 = nn.Conv2d(32, 64, kernel_size=3, padding=1): This line creates another 2D convolutional layer with 32 input channels, 64 output channels, a kernel size of 3, and padding of 1. This layer is connected to the output of the first convolutional layer, allowing the network to learn more complex features from the previous layer’s output.\n",
    "    self.pool = nn.MaxPool2d(2, 2): This line creates a max pooling layer with a kernel size of 2 and a stride of 2. Max pooling is a down-sampling operation that selects the maximum value from a small neighborhood for each input channel. It helps to reduce the dimensionality of the data, reduce the computational cost and helps to prevent overfitting.\n",
    "    self.dropout1 = nn.Dropout2d(0.25): This line creates a dropout layer with a probability of 0.25. Dropout is a regularization technique that randomly drops out some neurons during training, which helps to reduce overfitting.\n",
    "    self.dropout2 = nn.Dropout2d(0.5): This line creates another dropout layer with a probability of 0.5\n",
    "    self.fc1 = nn.Linear(64 * 7 * 7, 128): This line creates a fully connected (linear) layer with 64 * 7 * 7 input features and 128 output features. Fully connected layers are used to make the final predictions based on the features learned by the previous layers.\n",
    "    self.fc2 = nn.Linear(128, 10): This line creates another fully connected layer with 128 input features and 10 output features. This layer will produce the final output of the network with 10 classesThe forward method defines the \n",
    "\n",
    "Next, there is the Forward pass method of the network. It takes an input x and applies a series of operations defined by the layers in the __init__ method.\n",
    "\n",
    "    x = self.pool(F.relu(self.conv1(x))): This line applies the ReLU activation function (F.relu) to the output of the first convolutional layer (self.conv1), and then applies max pooling (self.pool) to the result.\n",
    "    x = self.dropout1(x): This line applies dropout to the output of the first pooling layer.\n",
    "    x = self.pool(F.relu(self.conv2(x))): This line applies the ReLU activation function to the output of the second convolutional layer (self.conv2), and then applies max pooling to the result.\n",
    "    x = self.dropout2(x): This line applies dropout to the output of the second pooling layer.\n",
    "    x = x.view(-1, 64 * 7 * 7): This line reshapes the tensor x to a 1D tensor, with -1 indicating that the number of elements in the tensor is inferred from the other dimensions.\n",
    "    x = F.relu(self.fc1(x)): This line applies the ReLU activation function to the output of the first fully connected layer (self.fc1).\n",
    "    x = self.fc2(x): This line applies the final fully connected layer (self.fc2) to the output of the previous layer and returns the result, which will be the final output of the network.\n",
    "    This CNN architecture is a simple one, and it can be used as a starting point for more complex tasks. However, it could be improved by adding more layers, using different types of layers, or tuning the hyperparameters for better performance."
   ]
  },
  {
   "cell_type": "code",
   "execution_count": 24,
   "id": "f93aae5d",
   "metadata": {},
   "outputs": [
    {
     "name": "stdout",
     "output_type": "stream",
     "text": [
      "----------------------------------------------------------------\n",
      "        Layer (type)               Output Shape         Param #\n",
      "================================================================\n",
      "            Conv2d-1           [-1, 32, 28, 28]             320\n",
      "         MaxPool2d-2           [-1, 32, 14, 14]               0\n",
      "         Dropout2d-3           [-1, 32, 14, 14]               0\n",
      "            Conv2d-4           [-1, 64, 14, 14]          18,496\n",
      "         MaxPool2d-5             [-1, 64, 7, 7]               0\n",
      "         Dropout2d-6             [-1, 64, 7, 7]               0\n",
      "            Linear-7                  [-1, 128]         401,536\n",
      "            Linear-8                   [-1, 10]           1,290\n",
      "================================================================\n",
      "Total params: 421,642\n",
      "Trainable params: 421,642\n",
      "Non-trainable params: 0\n",
      "----------------------------------------------------------------\n",
      "Input size (MB): 0.00\n",
      "Forward/backward pass size (MB): 0.43\n",
      "Params size (MB): 1.61\n",
      "Estimated Total Size (MB): 2.04\n",
      "----------------------------------------------------------------\n"
     ]
    }
   ],
   "source": [
    "# Instantiate the model\n",
    "model = Classifier()\n",
    "  \n",
    "# Move the model to the GPU if available\n",
    "summary(model, (1, 28, 28))"
   ]
  },
  {
   "cell_type": "markdown",
   "id": "0488e2d1",
   "metadata": {},
   "source": [
    "## Step 4: Define the loss function and optimizer\n",
    "\n",
    "Now, we need to define a loss function and an optimizer. For this example, we will be using the cross-entropy loss and the  ADAM  optimizer."
   ]
  },
  {
   "cell_type": "code",
   "execution_count": 25,
   "id": "a59d6986",
   "metadata": {},
   "outputs": [],
   "source": [
    "# Define a loss function and optimizer\n",
    "criterion = nn.CrossEntropyLoss()\n",
    "optimizer = optim.Adam(model.parameters(), lr=0.001)"
   ]
  },
  {
   "cell_type": "markdown",
   "id": "595fa5c1",
   "metadata": {},
   "source": [
    "The code defines the loss function and optimizer for the neural network.\n",
    "\n",
    "nn.CrossEntropyLoss() is a PyTorch function that creates an instance of the cross-entropy loss function. Cross-entropy loss is commonly used in classification problems as it measures the dissimilarity between the predicted class probabilities and the true class. It is calculated by taking the negative logarithm of the predicted class probability for the true class.\n",
    "\n",
    "optimizer = optim.Adam(model.parameters(), lr=0.001): This line creates an instance of the optim.Adam class, which is an optimization algorithm commonly used for deep learning. The Adam optimizer is an extension of stochastic gradient descent that uses moving averages of the parameters to provide a running estimate of the second raw moments of the gradients; the term Adam is derived from adaptive moment estimation. It requires the model’s parameters to be passed as the first argument and the learning rate is set to 0.001. The learning rate is a hyperparameter that controls the step size at which the optimizer makes updates to the model’s parameters.\n",
    "\n",
    "The optimizer and the loss function are used during the training process to update the model’s parameters and to evaluate the model’s performance, respectively."
   ]
  },
  {
   "cell_type": "markdown",
   "id": "45423fe7",
   "metadata": {},
   "source": [
    "## Step 5: Train the model\n",
    "\n",
    "Now, we can train our model using the training dataset. We will be using a batch size of 100 and will train the model for 10 epochs. The below code is training the neural network on a dataset using a loop that iterates over the number of training epochs and over the data in the training dataset.\n",
    "\n",
    "    batch_size = 100 and num_epochs = 10 define the batch size and number of epochs for the training process. The batch size is the number of samples from the training dataset that are used in one forward and backward pass of the neural network. The number of epochs is the number of times the entire training dataset is passed through the network.\n",
    "    \n",
    "    torch.utils.data.DataLoader(train_dataset, batch_size=batch_size, shuffle=True) creates a PyTorch DataLoader for the training dataset. The DataLoader takes the training dataset as an input and returns an iterator over the dataset. The iterator will return a set of samples (images and labels) in each iteration, where the number of samples is determined by the batch size. By setting shuffle=True, the DataLoader will randomly shuffle the dataset before each epoch.\n",
    "    \n",
    "    The outer loop, for epoch in range(num_epochs), iterates over the number of training epochs.\n",
    "    \n",
    "    The inner loop, for i, (images, labels) in enumerate(train_loader), iterates over the DataLoader, which returns batches of images and labels. The images are passed through the model using outputs = model(images) to get the model’s predictions.\n",
    "    \n",
    "    The loss is calculated by passing the model’s predictions and the true labels to the loss function using loss = criterion(outputs, labels).\n",
    "    \n",
    "    The optimizer is used to update the model’s parameters in the direction that minimizes the loss. This is done in the following 3 steps:  \n",
    "        optimizer.zero_grad() which clears the gradients of all optimizable parameters.\n",
    "        loss.backward() computes the gradients of the loss with respect to the model’s parameters.\n",
    "        optimizer.step() updates the model’s parameters based on the computed gradients.\n",
    "    \n",
    "    After the end of each epoch, the code prints the current epoch and the loss at the end of the epoch.\n",
    "\n",
    "At the end of the training process, the model’s parameters will have been updated to minimize the loss on the training dataset.\n",
    "\n",
    "It’s worth noting that it’s also useful to use a validation set to evaluate the model performance during training, so we can detect overfitting and adjust the model accordingly. we can achieve this by splitting the training set into two parts: training and validation. Then, use the training set for training, and use the validation set for evaluating the model performance during training."
   ]
  },
  {
   "cell_type": "code",
   "execution_count": 28,
   "id": "7d7d7876",
   "metadata": {},
   "outputs": [
    {
     "data": {
      "text/plain": [
       "device(type='cpu')"
      ]
     },
     "execution_count": 28,
     "metadata": {},
     "output_type": "execute_result"
    }
   ],
   "source": [
    "device = torch.device(\"cuda\" if torch.cuda.is_available() else \"cpu\")\n",
    "device"
   ]
  },
  {
   "cell_type": "code",
   "execution_count": 29,
   "id": "23ebd8fa",
   "metadata": {},
   "outputs": [
    {
     "name": "stdout",
     "output_type": "stream",
     "text": [
      "Epoch [1/10],Loss:0.1695,Validation Loss:13.6400,Accuracy:0.92,Validation Accuracy:0.94\n",
      "Epoch [2/10],Loss:0.1333,Validation Loss:9.4631,Accuracy:0.94,Validation Accuracy:0.97\n",
      "Epoch [3/10],Loss:0.1130,Validation Loss:7.5986,Accuracy:0.98,Validation Accuracy:0.96\n",
      "Epoch [4/10],Loss:0.0770,Validation Loss:6.8898,Accuracy:1.00,Validation Accuracy:0.97\n",
      "Epoch [5/10],Loss:0.0435,Validation Loss:6.2894,Accuracy:0.97,Validation Accuracy:0.97\n",
      "Epoch [6/10],Loss:0.1514,Validation Loss:6.1212,Accuracy:0.98,Validation Accuracy:0.94\n",
      "Epoch [7/10],Loss:0.0477,Validation Loss:6.0212,Accuracy:0.98,Validation Accuracy:0.97\n",
      "Epoch [8/10],Loss:0.0371,Validation Loss:5.3425,Accuracy:0.99,Validation Accuracy:0.99\n",
      "Epoch [9/10],Loss:0.0520,Validation Loss:5.0447,Accuracy:0.97,Validation Accuracy:0.97\n",
      "Epoch [10/10],Loss:0.1500,Validation Loss:5.4025,Accuracy:1.00,Validation Accuracy:0.96\n"
     ]
    }
   ],
   "source": [
    "batch_size=100\n",
    "num_epochs=10\n",
    "# Split the training set into training and validation sets\n",
    "val_percent = 0.2 # percentage of the data used for validation\n",
    "val_size    = int(val_percent * len(train_dataset))\n",
    "train_size  = len(train_dataset) - val_size\n",
    "train_dataset, val_dataset = torch.utils.data.random_split(train_dataset, \n",
    "                                                           [train_size, \n",
    "                                                            val_size])\n",
    "  \n",
    "# Create DataLoaders for the training and validation sets\n",
    "train_loader = torch.utils.data.DataLoader(train_dataset, \n",
    "                                           batch_size=batch_size, \n",
    "                                           shuffle=True,\n",
    "                                           pin_memory=True)\n",
    "val_loader = torch.utils.data.DataLoader(val_dataset, \n",
    "                                         batch_size=batch_size, \n",
    "                                         shuffle=False,\n",
    "                                         pin_memory=True)\n",
    "losses = []\n",
    "accuracies = []\n",
    "val_losses = []\n",
    "val_accuracies = []\n",
    "# Train the model\n",
    "for epoch in range(num_epochs):\n",
    "    for i, (images, labels) in enumerate(train_loader):\n",
    "        # Forward pass\n",
    "        images=images.to(device)\n",
    "        labels=labels.to(device)\n",
    "        outputs = model(images)\n",
    "        loss = criterion(outputs, labels)\n",
    "          \n",
    "        # Backward pass and optimization\n",
    "        optimizer.zero_grad()\n",
    "        loss.backward()\n",
    "        optimizer.step()\n",
    "  \n",
    "        _, predicted = torch.max(outputs.data, 1)\n",
    "    acc = (predicted == labels).sum().item() / labels.size(0)\n",
    "    accuracies.append(acc)\n",
    "    losses.append(loss.item())  \n",
    "          \n",
    "    # Evaluate the model on the validation set\n",
    "    val_loss = 0.0\n",
    "    val_acc = 0.0\n",
    "    with torch.no_grad():\n",
    "        for images, labels in val_loader:\n",
    "            labels=labels.to(device)\n",
    "            images=images.to(device)\n",
    "            outputs = model(images)\n",
    "            loss = criterion(outputs, labels)\n",
    "            val_loss += loss.item()\n",
    "              \n",
    "            _, predicted = torch.max(outputs.data, 1)\n",
    "        total = labels.size(0)\n",
    "        correct = (predicted == labels).sum().item()\n",
    "        val_acc += correct / total\n",
    "        val_accuracies.append(acc)\n",
    "        val_losses.append(loss.item())  \n",
    "      \n",
    "              \n",
    "    print('Epoch [{}/{}],Loss:{:.4f},Validation Loss:{:.4f},Accuracy:{:.2f},Validation Accuracy:{:.2f}'.format(\n",
    "        epoch+1, num_epochs, loss.item(), val_loss, acc ,val_acc))"
   ]
  },
  {
   "cell_type": "markdown",
   "id": "693b721e",
   "metadata": {},
   "source": [
    "## Step 6: Plot Training and Validation curve to check overfitting or underfitting\n",
    "\n",
    "Once the model is trained, We can plot the Training and Validation Loss and accuracy curve. This can give us an idea of how the model is performing on unseen data, and if it’s overfitting or underfitting."
   ]
  },
  {
   "cell_type": "code",
   "execution_count": 32,
   "id": "576f6503",
   "metadata": {},
   "outputs": [
    {
     "data": {
      "image/png": "[encoded data removed]",
      "text/plain": [
       "<Figure size 640x480 with 1 Axes>"
      ]
     },
     "metadata": {},
     "output_type": "display_data"
    },
    {
     "data": {
      "image/png": "[encoded data removed]",
      "text/plain": [
       "<Figure size 640x480 with 1 Axes>"
      ]
     },
     "metadata": {},
     "output_type": "display_data"
    }
   ],
   "source": [
    "import matplotlib.pyplot as plt\n",
    "  \n",
    "# Plot the training and validation loss over time\n",
    "plt.plot(range(num_epochs), \n",
    "         losses, color='red', \n",
    "         label='Training Loss',\n",
    "         marker='o')\n",
    "plt.plot(range(num_epochs), \n",
    "         val_losses,\n",
    "         color='blue', \n",
    "         linestyle='--', \n",
    "         label='Validation Loss', \n",
    "         marker='x')\n",
    "plt.xlabel('Epoch')\n",
    "plt.ylabel('Loss')\n",
    "plt.title('Training and Validation Loss')\n",
    "plt.legend()\n",
    "plt.show()\n",
    "  \n",
    "# Plot the training and validation accuracy over time\n",
    "plt.plot(range(num_epochs), \n",
    "         accuracies, \n",
    "         label='Training Accuracy', \n",
    "         color='red', \n",
    "         marker='o')\n",
    "plt.plot(range(num_epochs), \n",
    "         val_accuracies, \n",
    "         label='Validation Accuracy', \n",
    "         color='blue', \n",
    "         linestyle=':', \n",
    "         marker='x')\n",
    "plt.xlabel('Epoch')\n",
    "plt.ylabel('Accuracy')\n",
    "plt.title('Training and Validation Accuracy')\n",
    "plt.legend()\n",
    "plt.show()"
   ]
  },
  {
   "cell_type": "markdown",
   "id": "2cce1fb1",
   "metadata": {},
   "source": [
    "## Step 7: Evaluation\n",
    "\n",
    "Another important aspect is the choice of the evaluation metric. In this example, we used accuracy as the evaluation metric, which is a good starting point for many problems. However, it’s important to be aware that accuracy can be misleading in some cases, especially when the classes are imbalanced. In those cases, other metrics such as precision, recall, F1-score, or AUC-ROC should be used.\n",
    "\n",
    "After training the model, you can evaluate its performance on the test dataset by making predictions and comparing them to the true labels. One way to evaluate the performance of a classification model is to use a classification report, which is a summary of the model’s performance across all classes.\n",
    "\n",
    "The first thing is to evaluate the model on the test dataset and calculate its overall accuracy by comparing the predicted labels to the true labels using the torch.max() function.\n",
    "\n",
    "Then, it generates a classification report using the classification_report function from the scikit-learn library. The classification report gives you a summary of the model’s performance across all classes by calculating several metrics such as precision, recall, f1-score, and support.\n",
    "\n",
    "Precision – Precision is the number of true positives divided by the number of true positives plus the number of false positives. It is a measure of how many of the positive predictions were correct.\n",
    "\n",
    "Recall – Recall is the number of true positives divided by the number of true positives plus the number of false negatives. It is a measure of how many of the actual positive cases were correctly predicted.\n",
    "\n",
    "F1-score – The F1-score is the harmonic mean of precision and recall. It is a single number that represents the balance between precision and recall.\n",
    "\n",
    "Support – Support is the number of instances in the test set that belong to a specific class.\n",
    "\n",
    "It is important to note that the classification report is calculated based on the predictions made on the entire test set, and not just a sample of the test set.\n",
    "\n",
    "Here is an example of how to evaluate the model and generate a classification report:"
   ]
  },
  {
   "cell_type": "code",
   "execution_count": 33,
   "id": "43b96bbc",
   "metadata": {},
   "outputs": [
    {
     "name": "stdout",
     "output_type": "stream",
     "text": [
      "Test Accuracy: 99.09%\n",
      "              precision    recall  f1-score   support\n",
      "\n",
      "           0       0.98      1.00      0.99       980\n",
      "           1       1.00      0.99      1.00      1135\n",
      "           2       0.99      0.99      0.99      1032\n",
      "           3       1.00      0.99      0.99      1010\n",
      "           4       1.00      0.99      0.99       982\n",
      "           5       0.98      0.99      0.99       892\n",
      "           6       1.00      0.98      0.99       958\n",
      "           7       0.99      0.99      0.99      1028\n",
      "           8       0.99      0.99      0.99       974\n",
      "           9       0.99      0.99      0.99      1009\n",
      "\n",
      "    accuracy                           0.99     10000\n",
      "   macro avg       0.99      0.99      0.99     10000\n",
      "weighted avg       0.99      0.99      0.99     10000\n",
      "\n"
     ]
    }
   ],
   "source": [
    "# Create a DataLoader for the test dataset\n",
    "test_loader = torch.utils.data.DataLoader(test_dataset, \n",
    "                                          batch_size=batch_size, \n",
    "                                          shuffle=False)\n",
    "  \n",
    "# Evaluate the model on the test dataset\n",
    "model.eval()\n",
    "  \n",
    "with torch.no_grad():\n",
    "    correct = 0\n",
    "    total = 0\n",
    "    y_true = []\n",
    "    y_pred = []\n",
    "    for images, labels in test_loader:\n",
    "        images = images.to(device)\n",
    "        labels = labels.to(device)\n",
    "        outputs = model(images)\n",
    "        _, predicted = torch.max(outputs.data, 1)\n",
    "        total += labels.size(0)\n",
    "        correct += (predicted == labels).sum().item()\n",
    "        predicted=predicted.to('cpu')\n",
    "        labels=labels.to('cpu')\n",
    "        y_true.extend(labels)\n",
    "        y_pred.extend(predicted)\n",
    "\n",
    "print('Test Accuracy: {}%'.format(100 * correct / total))\n",
    "  \n",
    "# Generate a classification report\n",
    "  \n",
    "from sklearn.metrics import classification_report\n",
    "print(classification_report(y_true, y_pred))"
   ]
  },
  {
   "cell_type": "markdown",
   "id": "01a7b1e0",
   "metadata": {},
   "source": [
    "Finally, it’s important to keep in mind that deep learning models require a lot of data and computational resources to train. Training a model on a large dataset might take a long time and require a powerful GPU. "
   ]
  },
  {
   "cell_type": "markdown",
   "id": "535156b3",
   "metadata": {},
   "source": []
  },
  {
   "cell_type": "code",
   "execution_count": null,
   "id": "9f6a2fe2",
   "metadata": {},
   "outputs": [],
   "source": []
  }
 ],
 "metadata": {
  "kernelspec": {
   "display_name": "conda_amazonei_pytorch_latest_p37",
   "language": "python",
   "name": "conda_amazonei_pytorch_latest_p37"
  },
  "language_info": {
   "codemirror_mode": {
    "name": "ipython",
    "version": 3
   },
   "file_extension": ".py",
   "mimetype": "text/x-python",
   "name": "python",
   "nbconvert_exporter": "python",
   "pygments_lexer": "ipython3",
   "version": "3.7.10"
  }
 },
 "nbformat": 4,
 "nbformat_minor": 5
}
